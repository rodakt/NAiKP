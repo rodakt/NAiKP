{
  "cells": [
    {
      "cell_type": "markdown",
      "metadata": {},
      "source": [
        "# 8. Transfer learning. Rozpoznawanie obrazów\n",
        "\n",
        "### Tomasz Rodak\n",
        "\n",
        "Laboratorium 8\n",
        "\n",
        "---"
      ]
    },
    {
      "cell_type": "markdown",
      "metadata": {
        "id": "rwdbg1VSpec6"
      },
      "source": [
        "## 8.1\n",
        "\n",
        "Celem tego laboratorium jest zapoznanie się z metodą [*transfer learningu*](https://en.wikipedia.org/wiki/Transfer_learning) (uczenia transferowego). Transfer learning to technika uczenia maszynowego, która polega na przenoszeniu wiedzy zdobytej podczas rozwiązywania jednego problemu do innego, pokrewnego problemu. W praktyce oznacza to, że zamiast trenować model od podstaw na dużym zbiorze danych, możemy wykorzystać model, który został już wytrenowany na innym zbiorze danych i dostosować go do naszych potrzeb. Jest to szczególnie przydatne w sytuacjach, gdy mamy ograniczone zasoby obliczeniowe lub mało danych do trenowania. \n",
        "\n",
        "Transfer learning zademonstrujemy na przykładzie problemu rozpoznawania obrazów. Wykorzystamy do tego celu pretrenowany model [ResNet18](https://arxiv.org/pdf/1512.03385). Obrazy do klasyfikacji pobierzemy z sekcji *Images* wyszukiwarki [DuckDuckGo](https://duckduckgo.com/). Wykorzystamy również bibliotekę [fastai](https://docs.fast.ai/) do budowy i trenowania modelu.\n",
        "\n",
        "Arkusz ten powstał na podstawie kursu [fastai](https://course.fast.ai/), Getting Started"
      ]
    },
    {
      "cell_type": "markdown",
      "metadata": {
        "id": "4IdJlZybubOi"
      },
      "source": [
        "### 8.1.1 Instalacje i importy\n",
        "\n",
        "Jeśli korzystasz z Google Colab, to biblioteka fastai jest już zainstalowana. Brakuje natomiast pakietu [`duckduckgo-search`](https://github.com/deedy5/duckduckgo_search). Pakiet ten wykorzystamy do utworzenia listy odnośników do obrazów, zainstalujesz go poleceniem:"
      ]
    },
    {
      "cell_type": "code",
      "execution_count": null,
      "metadata": {
        "colab": {
          "base_uri": "https://localhost:8080/"
        },
        "id": "Mk5lVncjpOVX",
        "outputId": "498f466e-5cf3-4372-9dce-02cb1762c5d6"
      },
      "outputs": [],
      "source": [
        "!pip install duckduckgo_search"
      ]
    },
    {
      "cell_type": "markdown",
      "metadata": {},
      "source": [
        "Importy:"
      ]
    },
    {
      "cell_type": "code",
      "execution_count": null,
      "metadata": {
        "id": "cz_RBAflRgzW"
      },
      "outputs": [],
      "source": [
        "import asyncio\n",
        "import hashlib\n",
        "import os\n",
        "from io import BytesIO\n",
        "from pathlib import Path\n",
        "\n",
        "import httpx\n",
        "import requests\n",
        "import tqdm.notebook as tqdm\n",
        "from duckduckgo_search import DDGS\n",
        "from PIL import Image, UnidentifiedImageError\n",
        "\n",
        "from fastai.vision.all import (\n",
        "    DataBlock,\n",
        "    ImageBlock,\n",
        "    CategoryBlock,\n",
        "    get_image_files,\n",
        "    RandomSplitter,\n",
        "    parent_label,\n",
        "    Resize,\n",
        "    resnet18, # Pretrenowana sieć konwolucyjna RESNET18\n",
        "    vision_learner,\n",
        "    error_rate,\n",
        "    ClassificationInterpretation,\n",
        "    PILImage\n",
        ")"
      ]
    },
    {
      "cell_type": "markdown",
      "metadata": {},
      "source": [
        "### 8.1.2 Pobieranie obrazów\n",
        "\n",
        "Dla uproszczenia załóżmy, że chcemy rozpoznać dwa rodzaje obrazów, później możesz to oczywiście zmienić. Zaproponuj jakieś dwie kategorie. Dane będziemy pobierać z wyszukiwarki DuckDuckGo z sekcji *Images* wyszukiwania, więc uwzględnij wynikające stąd ograniczenia. Wybór bardzo specyficznej kategorii o słabej reprezentacji w internecie może skutkować nieadekwatnym zbiorem danych. Wybierz takie kategorie, o których spodziewasz się, że będą miały dobrą reprezentację w internecie. \n",
        "\n",
        "Funkcje `to_hash()` i `seen_files()` są pomocnicze. Funkcja `to_hash()` konwertuje ciąg znaków na hash MD5, a funkcja `seen_files()` pobiera zbiór nazw plików (bez rozszerzeń) z folderu. Użyjemy ich do sprawdzenia, czy dany obraz został już pobrany. Takie śledzenie plików jest istotne, gdyż różne zapytania do wyszukiwarki mogą czasami zwracać te same obrazy - nie chcemy ich pobierać więcej niż raz."
      ]
    },
    {
      "cell_type": "code",
      "execution_count": null,
      "metadata": {
        "id": "SkizSnOqy3zQ"
      },
      "outputs": [],
      "source": [
        "def to_hash(s):\n",
        "    \"\"\"\n",
        "    Konwertuje ciąg znaków na hash MD5.\n",
        "    \n",
        "    Argumenty:\n",
        "        s (str): Ciąg znaków do hashowania\n",
        "        \n",
        "    Zwraca:\n",
        "        str: Hash MD5 podanego ciągu w formacie szesnastkowym\n",
        "    \"\"\"\n",
        "    return hashlib.md5(s.encode()).hexdigest()\n",
        "\n",
        "def seen_files(folder):\n",
        "    \"\"\"\n",
        "    Pobiera zbiór nazw plików (bez rozszerzeń) z folderu.\n",
        "    \n",
        "    Argumenty:\n",
        "        folder (str lub Path): Ścieżka do folderu do przeskanowania\n",
        "        \n",
        "    Zwraca:\n",
        "        set: Zbiór nazw plików bez rozszerzeń\n",
        "    \"\"\"\n",
        "    files = os.listdir(folder)\n",
        "    return set(Path(file).stem for file in files)"
      ]
    },
    {
      "cell_type": "markdown",
      "metadata": {},
      "source": [
        "Tworzę folder `datasets/imgrec`, w którym będą przechowywane pobrane obrazy. Będę rozpoznawał obrazy dzika i jelenia. Aby je przechować, tworzę podfoldery `boar` i `deer`. Powinieneś wybrać inne kategorie, ale foldery powinny mieć podobną strukturę. Oznacza to, że powinieneś również dokonać odpowiednich zmian w kodzie poniżej, tak aby odpowiadał Twoim kategoriom. "
      ]
    },
    {
      "cell_type": "code",
      "execution_count": null,
      "metadata": {
        "id": "ywWcy5yfOC75"
      },
      "outputs": [],
      "source": [
        "# !mkdir -p datasets/imgrec\n",
        "# !mkdir -p datasets/imgrec/boar\n",
        "# !mkdir -p datasets/imgrec/deer"
      ]
    },
    {
      "cell_type": "markdown",
      "metadata": {},
      "source": [
        "W tym miejscu tworzymy zapytanie do wyszukiwarki. **Upewnij się, że zapytanie jest odpowiednie do kategorii!** (zmienne `keywords` i `category`). Zbiór danych zostałby uszkodzony, gdybym przykładowo w kategorii `boar` dodał zapytanie o `deer`. W takim przypadku nie da się poprawnie wytrenować modelu.\n",
        "\n",
        "Zapytanie delegowane jest do wyszukiwarki DuckDuckGo, która zwraca listę linków do obrazów (`images_links`). "
      ]
    },
    {
      "cell_type": "code",
      "execution_count": null,
      "metadata": {
        "id": "tdgupctYw8qk"
      },
      "outputs": [],
      "source": [
        "# keywords = 'sus scrofa'\n",
        "# category = 'boar'\n",
        "\n",
        "with DDGS() as ddgs:\n",
        "    images_gen = ddgs.images(\n",
        "        keywords,\n",
        "        max_results=100\n",
        "    )\n",
        "    images_links = list(images_gen)"
      ]
    },
    {
      "cell_type": "markdown",
      "metadata": {},
      "source": [
        "Główna pętla pobierająca obrazy iteruje po wszystkich linkach i pobiera je asynchronicznie. Używamy `asyncio` do równoległego pobierania obrazów, co przyspiesza cały proces. Ważne zmienne:\n",
        "- `FOLDER` - folder, w którym znajduje się zbiór danych\n",
        "- `subfolder` - podfolder, w którym będą przechowywane pobrane obrazy w danej kategorii\n",
        "- `already_seen` - zbiór nazw plików, które zostały już pobrane.\n",
        "\n",
        "Nazwy plików są generowane na podstawie hasha MD5 adresu URL obrazu. Dzięki temu unikamy niespodziewanych znaków w nazwach plików. Funkcja `download_image_async()` sprawdza liczne możliwe błędy:\n",
        "- `httpx.HTTPError` - błąd HTTP\n",
        "- `httpx.TimeoutException` - przekroczony czas oczekiwania na odpowiedź\n",
        "- `UnidentifiedImageError` - błąd związany z otwieraniem obrazu, dzięki czemu zapisujemy tylko poprawne obrazy.\n",
        "\n",
        "Program ten możesz wykonywać wielokrotnie, pamiętaj jednak, aby wcześniej wstawić odpowiednie zapytanie i kategorię w komórce powyżej. "
      ]
    },
    {
      "cell_type": "code",
      "execution_count": null,
      "metadata": {
        "colab": {
          "base_uri": "https://localhost:8080/"
        },
        "id": "MahPhlmGp2__",
        "outputId": "26b45754-8d71-47f1-9b8e-daedeada3349"
      },
      "outputs": [],
      "source": [
        "FOLDER = Path('datasets/imgrec')\n",
        "subfolder = FOLDER/category\n",
        "already_seen = seen_files(subfolder)\n",
        "print(f'Now {len(already_seen)} files in {subfolder}')\n",
        "counter = 0\n",
        "\n",
        "async def download_image_async(client, image_url, already_seen, subfolder, to_hash, semaphore):\n",
        "    async with semaphore:  # Limit concurrent downloads\n",
        "        file = to_hash(image_url)\n",
        "\n",
        "        if file in already_seen:\n",
        "            print(f'Already seen: {file}={image_url}')\n",
        "            return None\n",
        "\n",
        "        try:\n",
        "            headers = {\n",
        "                'User-Agent': 'Mozilla/5.0 (X11; Linux x86_64; rv:120.0) Gecko/20100101 Firefox/120.0'\n",
        "            }\n",
        "            r = await client.get(image_url, headers=headers, timeout=5)\n",
        "        except httpx.HTTPError as e:\n",
        "            print(f'HTTPError: {e} for {image_url}')\n",
        "            return None\n",
        "        except httpx.TimeoutException:\n",
        "            print(f'Timeout: {image_url}')\n",
        "            return None\n",
        "\n",
        "        try:\n",
        "            img = Image.open(BytesIO(r.content))\n",
        "        except UnidentifiedImageError:\n",
        "            print(f'Image error for {image_url}')\n",
        "            return None\n",
        "\n",
        "        file = Path(file).with_suffix(f'.{img.format.lower()}')\n",
        "        print(f'New file = {image_url}')\n",
        "\n",
        "        with open(subfolder/file, 'wb') as f:\n",
        "            f.write(r.content)\n",
        "            print(f'Saved {file} to {subfolder}')\n",
        "\n",
        "        return file\n",
        "\n",
        "max_concurrent = 10  \n",
        "semaphore = asyncio.Semaphore(max_concurrent)\n",
        "\n",
        "client = httpx.AsyncClient(limits=httpx.Limits(max_connections=20))\n",
        "\n",
        "tasks = []\n",
        "for image in images_links:\n",
        "    image_url = image['image']\n",
        "    task = download_image_async(client, image_url, already_seen, subfolder, to_hash, semaphore)\n",
        "    tasks.append(task)\n",
        "\n",
        "results = await asyncio.gather(*tasks)\n",
        "await client.aclose()  # Close the client when done\n",
        "\n",
        "successful = [r for r in results if r is not None]\n",
        "print(f'Total files downloaded: {len(successful)}')"
      ]
    },
    {
      "cell_type": "markdown",
      "metadata": {},
      "source": [
        "Rozmiar folderu `datasets/imgrec`:"
      ]
    },
    {
      "cell_type": "code",
      "execution_count": null,
      "metadata": {
        "colab": {
          "base_uri": "https://localhost:8080/"
        },
        "id": "KWEzG53wSvS9",
        "outputId": "745617a2-2fa5-4ddc-f53b-3c4d4de28d5c"
      },
      "outputs": [],
      "source": [
        "!du -hsc datasets/imgrec"
      ]
    },
    {
      "cell_type": "markdown",
      "metadata": {},
      "source": [
        "Liczba pobranych obrazów w folderze `boar`:"
      ]
    },
    {
      "cell_type": "code",
      "execution_count": null,
      "metadata": {
        "colab": {
          "base_uri": "https://localhost:8080/"
        },
        "id": "_ZVKGXUjdLPg",
        "outputId": "f783840d-5178-4e78-bab4-a52854972aaa"
      },
      "outputs": [],
      "source": [
        "!ls -lh datasets/imgrec/boar/|wc -l"
      ]
    },
    {
      "cell_type": "markdown",
      "metadata": {},
      "source": [
        "Liczba pobranych obrazów w folderze `deer`:"
      ]
    },
    {
      "cell_type": "code",
      "execution_count": null,
      "metadata": {
        "colab": {
          "base_uri": "https://localhost:8080/"
        },
        "id": "pdsutoEAdR7Y",
        "outputId": "47e509d5-c76b-4887-9858-9a5b51d3bc86"
      },
      "outputs": [],
      "source": [
        "!ls -lh datasets/imgrec/deer/|wc -l"
      ]
    },
    {
      "cell_type": "markdown",
      "metadata": {},
      "source": [
        "### 8.1.3 Konstrukcja loadera danych\n",
        "\n",
        "W tej sekcji tworzymy loader danych. Loader danych to obiekt, który umożliwia ładowanie danych w partiach (batchach) do modelu. W fastai używamy do tego celu klasy `DataBlock`:"
      ]
    },
    {
      "cell_type": "code",
      "execution_count": null,
      "metadata": {
        "id": "zYof_78OSPAp"
      },
      "outputs": [],
      "source": [
        "dls = DataBlock(\n",
        "    blocks=(ImageBlock, CategoryBlock),\n",
        "    get_items=get_image_files,\n",
        "    splitter=RandomSplitter(valid_pct=0.2, seed=123),\n",
        "    get_y=parent_label,\n",
        "    item_tfms=[Resize(128, method='squish')]\n",
        ").dataloaders(FOLDER, bs=16)"
      ]
    },
    {
      "cell_type": "markdown",
      "metadata": {},
      "source": [
        "Argumenty z wywołania powyżej:\n",
        "\n",
        "1. **Definicja bloków**  \n",
        "   ```python\n",
        "   blocks=(ImageBlock, CategoryBlock)\n",
        "   ```  \n",
        "   – pierwszy blok odpowiada za wczytywanie obrazów, drugi za etykiety (kategorie).\n",
        "\n",
        "2. **Pobieranie plików**  \n",
        "   ```python\n",
        "   get_items=get_image_files\n",
        "   ```  \n",
        "   – wyszukuje w danym folderze wszystkie pliki graficzne.\n",
        "\n",
        "3. **Podział na zbiory**  \n",
        "   ```python\n",
        "   splitter=RandomSplitter(valid_pct=0.2, seed=123)\n",
        "   ```  \n",
        "   – losowo dzieli dane na 80 % zbiór treningowy i 20 % walidacyjny, przy stałym ziarnie losowości.\n",
        "\n",
        "4. **Pobieranie etykiet**  \n",
        "   ```python\n",
        "   get_y=parent_label\n",
        "   ```  \n",
        "   – etykieta dla każdego obrazu to nazwa katalogu, w którym się znajduje.\n",
        "\n",
        "5. **Transformacja elementów**  \n",
        "   ```python\n",
        "   item_tfms=[Resize(128, method='squish')]\n",
        "   ```  \n",
        "   – zmiana rozmiaru każdego obrazu na 128×128 pikseli, bez zachowania proporcji (rozciągnięcie).\n",
        "\n",
        "6. **Utworzenie DataLoaders**  \n",
        "   ```python\n",
        "   .dataloaders(FOLDER, bs=8)\n",
        "   ```  \n",
        "   – wskazanie ścieżki do głównego folderu z danymi i ustawienie rozmiaru batcha na 8.\n",
        "\n",
        "Efektem jest obiekt `dls`, który udostępnia gotowe do użycia batch’e obrazów i odpowiadających im etykiet do trenowania i walidacji modelu."
      ]
    },
    {
      "cell_type": "markdown",
      "metadata": {},
      "source": [
        "Podgląd 6 losowo wybranych obrazów z batcha:"
      ]
    },
    {
      "cell_type": "code",
      "execution_count": null,
      "metadata": {
        "colab": {
          "base_uri": "https://localhost:8080/",
          "height": 516
        },
        "id": "dElGJEBDSSuv",
        "outputId": "e2ea584a-74d5-475a-98fa-989f20013be5"
      },
      "outputs": [],
      "source": [
        "dls.show_batch(max_n=6)"
      ]
    },
    {
      "cell_type": "markdown",
      "metadata": {},
      "source": [
        "### 8.1.4 Budowa modelu"
      ]
    },
    {
      "cell_type": "code",
      "execution_count": null,
      "metadata": {
        "id": "yE3o-qKBSXEX"
      },
      "outputs": [],
      "source": [
        "learner = vision_learner(dls, resnet18, metrics=error_rate)"
      ]
    },
    {
      "cell_type": "markdown",
      "metadata": {},
      "source": [
        "Ta komórka tworzy obiekt **Learner**, czyli gotowy do trenowania model CNN w Fastai:\n",
        "\n",
        "1. **vision_learner**  \n",
        "   – funkcja pomocnicza, która tworzy obiekt `Learner`.\n",
        "\n",
        "2. **dls**  \n",
        "   – przekazujemy wcześniej zdefiniowane `DataLoaders` (`dls`) ze zbiorami treningowym i walidacyjnym.\n",
        "\n",
        "3. **resnet18**  \n",
        "   – wykorzystujemy architekturę ResNet-18; domyślnie ładowana jest wstępnie wytrenowana sieć na ImageNet.\n",
        "\n",
        "4. **metrics=error_rate**  \n",
        "   – definiujemy metrykę do śledzenia podczas treningu – w tym wypadku odsetek błędnych klasyfikacji.\n",
        "\n",
        "Efektem jest `learner`, który zawiera model, dane, optymalizator i wybraną metrykę, przygotowany do treningu i ewaluacji."
      ]
    },
    {
      "cell_type": "markdown",
      "metadata": {},
      "source": [
        "#### 8.1.5 Trening"
      ]
    },
    {
      "cell_type": "code",
      "execution_count": null,
      "metadata": {
        "colab": {
          "base_uri": "https://localhost:8080/",
          "height": 179
        },
        "id": "nrL_TCRGSaLn",
        "outputId": "ef82b735-cfec-40bc-91f3-99d130169cbc"
      },
      "outputs": [],
      "source": [
        "%%time\n",
        "learner.fine_tune(3)"
      ]
    },
    {
      "cell_type": "markdown",
      "metadata": {},
      "source": [
        "Powyższe wywołanie skutkuje transfer learningiem w dwóch fazach, rozłożonych na 3 epoki:\n",
        "\n",
        "1. **Faza “rozgrzewki” (freeze)**  \n",
        "   - Domyślnie przez **1 epokę** zamraża się wszystkie warstwy bazowego ResNet-a (oprócz głowy) i trenuje tylko głowę klasyfikatora,  \n",
        "\n",
        "2. **Faza “dostrajania” (unfreeze)**  \n",
        "   - Następnie wszystkie warstwy zostają odmrożone i trenujesz całą sieć przez pozostałe **2 epoki** (3 – 1 = 2) z automatycznie dobranym harmonogramem tempa uczenia\n",
        "\n",
        "W efekcie `learner.fine_tune(3)` wykona:\n",
        "- **1 epokę** treningu głowy przy zamrożonych wagach ResNet-a,  \n",
        "- **2 epoki** treningu całej sieci po jej odmrożeniu.\n",
        "\n",
        "Możesz zmienić liczbę epok fazy „rozgrzewki”, korzystając z dodatkowego argumentu `freeze_epochs`, np.:  \n",
        "```python\n",
        "learner.fine_tune(epochs=3, freeze_epochs=2)\n",
        "```  \n",
        "co da 2 epoki tylko głowy, a następnie 1 epokę pełnego odblokowania."
      ]
    },
    {
      "cell_type": "markdown",
      "metadata": {},
      "source": [
        "### 8.1.5 Ocena \n",
        "\n",
        "Macierz pomyłek:"
      ]
    },
    {
      "cell_type": "code",
      "execution_count": null,
      "metadata": {
        "colab": {
          "base_uri": "https://localhost:8080/",
          "height": 17
        },
        "id": "Ym6yn6XjSdYi",
        "outputId": "81b954c5-1335-4d8a-9eb3-e6355cf96b33"
      },
      "outputs": [],
      "source": [
        "ci = ClassificationInterpretation.from_learner(learner)\n",
        "ci.plot_confusion_matrix()"
      ]
    },
    {
      "cell_type": "markdown",
      "metadata": {},
      "source": [
        "Podgląd 6 największych błędów klasyfikacji:"
      ]
    },
    {
      "cell_type": "code",
      "execution_count": null,
      "metadata": {
        "colab": {
          "base_uri": "https://localhost:8080/",
          "height": 556
        },
        "id": "cXCha5fzSjMp",
        "outputId": "e73c5b35-5d9a-493b-cbb6-5c4f14fbac3b"
      },
      "outputs": [],
      "source": [
        "ci.plot_top_losses(k=6)"
      ]
    },
    {
      "cell_type": "markdown",
      "metadata": {},
      "source": [
        "Przykład klasyfikacji dla zupełnie nowych obrazów:"
      ]
    },
    {
      "cell_type": "code",
      "execution_count": null,
      "metadata": {
        "colab": {
          "base_uri": "https://localhost:8080/"
        },
        "id": "ivaFF1ATSnze",
        "outputId": "9a53b631-88ff-4fb7-bf93-1745bfcb003f"
      },
      "outputs": [],
      "source": [
        "# adres URL nowego obrazka; wstaw odpowiedni dla twojej kategorii\n",
        "url = \"https://as1.ftcdn.net/v2/jpg/01/27/10/72/1000_F_127107272_V6IH9cZhwyBMrKAmkomHAwGS5E8GTBwo.jpg\"\n",
        "r = requests.get(url)\n",
        "r.raise_for_status()  # Sprawdź, czy żądanie zakończyło się sukcesem\n",
        "\n",
        "# zapisz obrazek do pliku\n",
        "with open('img.jpg', 'wb') as f:\n",
        "    f.write(r.content)"
      ]
    },
    {
      "cell_type": "code",
      "execution_count": null,
      "metadata": {
        "colab": {
          "base_uri": "https://localhost:8080/",
          "height": 35
        },
        "id": "y3AuMny4mDB0",
        "outputId": "89fa24f7-e407-4222-d5c2-73d207cd9b22"
      },
      "outputs": [],
      "source": [
        "learner.predict(PILImage.create(\"img.jpg\"))"
      ]
    },
    {
      "cell_type": "code",
      "execution_count": null,
      "metadata": {
        "colab": {
          "base_uri": "https://localhost:8080/",
          "height": 1000
        },
        "id": "8QTIwlysmDrL",
        "outputId": "529b8f7e-cf46-4232-cc6d-150420281aaf"
      },
      "outputs": [],
      "source": [
        "Image.open(\"./img.jpg\")"
      ]
    },
    {
      "cell_type": "code",
      "execution_count": null,
      "metadata": {
        "id": "BKZ1yIBQmbBZ"
      },
      "outputs": [],
      "source": []
    }
  ],
  "metadata": {
    "accelerator": "GPU",
    "colab": {
      "gpuType": "T4",
      "provenance": []
    },
    "kernelspec": {
      "display_name": "py312",
      "language": "python",
      "name": "python3"
    },
    "language_info": {
      "codemirror_mode": {
        "name": "ipython",
        "version": 3
      },
      "file_extension": ".py",
      "mimetype": "text/x-python",
      "name": "python",
      "nbconvert_exporter": "python",
      "pygments_lexer": "ipython3",
      "version": "3.12.4"
    }
  },
  "nbformat": 4,
  "nbformat_minor": 0
}
