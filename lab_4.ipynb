{
 "cells": [
  {
   "cell_type": "markdown",
   "metadata": {},
   "source": [
    "# 4. Drzewa decyzyjne\n",
    "\n",
    "### Tomasz Rodak\n",
    "\n",
    "Laboratorium 4\n",
    "\n",
    "---\n",
    "\n",
    "## 4.1 Titanic\n",
    "\n",
    "### 4.1.1 Wczytanie danych\n",
    "\n",
    "Pobierz dane *Titanic* z pakietu *seaborn*."
   ]
  },
  {
   "cell_type": "code",
   "execution_count": null,
   "metadata": {},
   "outputs": [],
   "source": []
  },
  {
   "cell_type": "code",
   "execution_count": null,
   "metadata": {},
   "outputs": [],
   "source": []
  },
  {
   "cell_type": "markdown",
   "metadata": {},
   "source": [
    "### 4.1.2 Przygotowanie danych\n",
    "\n",
    "1. Dokonaj ogólnego przeglądu danych.\n",
    "2. Usuń kolumny z brakami danych.\n",
    "3. Kolumny nienumeryczne zamień na numeryczne (`pd.get_dummies()`)."
   ]
  },
  {
   "cell_type": "code",
   "execution_count": null,
   "metadata": {},
   "outputs": [],
   "source": []
  },
  {
   "cell_type": "code",
   "execution_count": null,
   "metadata": {},
   "outputs": [],
   "source": []
  },
  {
   "cell_type": "markdown",
   "metadata": {},
   "source": [
    "### 4.1.3 Podział na zbiór treningowy i testowy\n",
    "\n",
    "Podziel dane na zbiór treningowy i testowy w proporcji 80:20 (`train_test_split()` z pakietu *sklearn*)."
   ]
  },
  {
   "cell_type": "code",
   "execution_count": null,
   "metadata": {},
   "outputs": [],
   "source": []
  },
  {
   "cell_type": "code",
   "execution_count": null,
   "metadata": {},
   "outputs": [],
   "source": []
  },
  {
   "cell_type": "markdown",
   "metadata": {},
   "source": [
    "### 4.1.4 Dopasowanie modelu\n",
    "\n",
    "1. Wytrenuj model drzewa decyzyjnego na zbiorze treningowym. Na początek użyj domyślnych parametrów.\n",
    "2. Dokonaj predykcji na zbiorze testowym."
   ]
  },
  {
   "cell_type": "code",
   "execution_count": null,
   "metadata": {},
   "outputs": [],
   "source": []
  },
  {
   "cell_type": "code",
   "execution_count": null,
   "metadata": {},
   "outputs": [],
   "source": []
  },
  {
   "cell_type": "markdown",
   "metadata": {},
   "source": [
    "### 4.1.5 Ocena modelu\n",
    "\n",
    "Dokonaj oceny modelu za pomocą metryk:\n",
    "* dokładność (*accuracy*), metryka `accuracy_score()` z pakietu *sklearn*,\n",
    "* macierz pomyłek (*confusion matrix*), metryka `confusion_matrix()` z paketu *sklearn*"
   ]
  },
  {
   "cell_type": "code",
   "execution_count": null,
   "metadata": {},
   "outputs": [],
   "source": []
  },
  {
   "cell_type": "code",
   "execution_count": null,
   "metadata": {},
   "outputs": [],
   "source": []
  },
  {
   "cell_type": "markdown",
   "metadata": {},
   "source": [
    "### 4.1.6 Wizualizacja drzewa\n",
    "\n",
    "Zwizualizuj drzewo decyzyjne za pomocą funkcji `plot_tree()` z pakietu *sklearn*."
   ]
  },
  {
   "cell_type": "code",
   "execution_count": null,
   "metadata": {},
   "outputs": [],
   "source": []
  },
  {
   "cell_type": "code",
   "execution_count": null,
   "metadata": {},
   "outputs": [],
   "source": []
  },
  {
   "cell_type": "markdown",
   "metadata": {},
   "source": [
    "### 4.1.7 Optymalizacja modelu\n",
    "\n",
    "Algorytm drzewa decyzyjnego posiada wiele parametrów, które można optymalizować. Zobacz, jak zmienia się jakość modelu i wygląd drzewa w zależności od parametrów:\n",
    "* `max_depth`,\n",
    "* `min_samples_split`,\n",
    "* `min_samples_leaf`."
   ]
  },
  {
   "cell_type": "code",
   "execution_count": null,
   "metadata": {},
   "outputs": [],
   "source": []
  },
  {
   "cell_type": "code",
   "execution_count": null,
   "metadata": {},
   "outputs": [],
   "source": []
  }
 ],
 "metadata": {
  "kernelspec": {
   "display_name": "py312",
   "language": "python",
   "name": "python3"
  },
  "language_info": {
   "codemirror_mode": {
    "name": "ipython",
    "version": 3
   },
   "file_extension": ".py",
   "mimetype": "text/x-python",
   "name": "python",
   "nbconvert_exporter": "python",
   "pygments_lexer": "ipython3",
   "version": "3.12.4"
  }
 },
 "nbformat": 4,
 "nbformat_minor": 2
}
