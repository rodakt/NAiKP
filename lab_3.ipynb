{
 "cells": [
  {
   "cell_type": "markdown",
   "metadata": {},
   "source": [
    "# 3. Pandas - grupowanie, agregacja i wizualizacja\n",
    "\n",
    "### Tomasz Rodak\n",
    "\n",
    "Laboratorium 3\n",
    "\n",
    "---\n",
    "\n",
    "## 3.1 Iris\n",
    "\n",
    "Zbiór danych zawierający pomiary 150 kwiatów irysa, podzielonych na trzy gatunki:\n",
    "\n",
    "* Iris setosa\n",
    "* Iris versicolor\n",
    "* Iris virginica\n",
    "\n",
    "Dla każdego kwiatu zmierzono cztery cechy:\n",
    "\n",
    "* długość działki kielicha (sepal length)\n",
    "* szerokość działki kielicha (sepal width)\n",
    "* długość płatka (petal length)\n",
    "* szerokość płatka (petal width)\n",
    "\n",
    "Po raz pierwszy w analizie statystycznej został użyty przez Ronalda Fishera w pracy [*The use of multiple measurements in taxonomic problems*](https://onlinelibrary.wiley.com/doi/abs/10.1111/j.1469-1809.1936.tb02137.x).\n",
    "\n",
    "Udostępniony w wielu pakietach, m. in. w seaborn."
   ]
  },
  {
   "cell_type": "code",
   "execution_count": null,
   "metadata": {},
   "outputs": [],
   "source": [
    "import seaborn as sns\n",
    "import matplotlib.pyplot as plt\n",
    "import pandas as pd\n",
    "\n",
    "df = sns.load_dataset('iris')\n",
    "df.head()"
   ]
  },
  {
   "cell_type": "markdown",
   "metadata": {},
   "source": [
    "### 3.1.1 Grupowanie i agregacja"
   ]
  },
  {
   "cell_type": "markdown",
   "metadata": {},
   "source": [
    "Do grupowania służy metoda `pd.DataFrame.groupby()`. Wynik działania tej metody to obiekt `pd.DataFrameGroupBy`, który zwykle jest następnie poddawany działaniu jakiejś metody agregującej, np. `mean()`, `sum()`, `count()`, `size()`, `std()`, `var()`, `min()`, `max()`, `median()`, `quantile()`, ...\n",
    "\n",
    "Dokumentacja metody `groupby()` znajduje się [tutaj](https://pandas.pydata.org/pandas-docs/stable/reference/api/pandas.DataFrame.groupby.html).\n",
    "\n",
    "Przykładowa ramka:"
   ]
  },
  {
   "cell_type": "code",
   "execution_count": null,
   "metadata": {},
   "outputs": [],
   "source": [
    "ramka = pd.DataFrame({\n",
    "    \"A\": [100, 200, 200, 300, 300],\n",
    "    \"B\": [200, 300, 200, 300, 200],\n",
    "    \"Z\": [\"X\", \"Y\", \"X\", \"Y\", \"X\"],\n",
    "})\n",
    "ramka"
   ]
  },
  {
   "cell_type": "markdown",
   "metadata": {},
   "source": [
    "Podgląd grup utworzonych względem kolumny `Z`:"
   ]
  },
  {
   "cell_type": "code",
   "execution_count": null,
   "metadata": {},
   "outputs": [],
   "source": [
    "ramka.groupby('Z').groups"
   ]
  },
  {
   "cell_type": "markdown",
   "metadata": {},
   "source": [
    "Agregacja za pomocą metody `size()` - zliczenie elementów w każdej grupie:"
   ]
  },
  {
   "cell_type": "code",
   "execution_count": null,
   "metadata": {},
   "outputs": [],
   "source": [
    "ramka.groupby('Z').size()"
   ]
  },
  {
   "cell_type": "markdown",
   "metadata": {},
   "source": [
    "Agregacja za pomocą metody `sum()` - suma elementów w kolumnach względem grup:"
   ]
  },
  {
   "cell_type": "code",
   "execution_count": null,
   "metadata": {},
   "outputs": [],
   "source": [
    "ramka.groupby('Z').sum()"
   ]
  },
  {
   "cell_type": "markdown",
   "metadata": {},
   "source": [
    "Podobne wywołanie, ale z agregacją za pomocą `mean()`:"
   ]
  },
  {
   "cell_type": "code",
   "execution_count": null,
   "metadata": {},
   "outputs": [],
   "source": [
    "ramka.groupby('Z').mean()"
   ]
  },
  {
   "cell_type": "markdown",
   "metadata": {},
   "source": [
    "Pomiędzy grupowaniem a agregacją można wstawić selekcję kolumn:"
   ]
  },
  {
   "cell_type": "code",
   "execution_count": null,
   "metadata": {},
   "outputs": [],
   "source": [
    "ramka.groupby('Z')[['A']].sum()"
   ]
  },
  {
   "cell_type": "markdown",
   "metadata": {},
   "source": [
    "**Zadanie 1.** Oblicz średnią długość płatka dla każdego z gatunków. Wykorzystaj metody `groupby()` i `mean()`."
   ]
  },
  {
   "cell_type": "code",
   "execution_count": null,
   "metadata": {},
   "outputs": [],
   "source": []
  },
  {
   "cell_type": "code",
   "execution_count": null,
   "metadata": {},
   "outputs": [],
   "source": []
  },
  {
   "cell_type": "markdown",
   "metadata": {},
   "source": [
    "**Zadanie 2.** Zobacz jak wygląda tabela II w pracy Fishera. Czy potrafisz odtworzyć ją z ramki `df`?\n",
    "\n",
    "*Wsakzówka:* Nową kolumnę do ramki danych dodasz za pomocą składni `df['nazwa_kolumny'] = wartości` (gdzie `df` to jakakolwiek ramka, niekoniecznie ta sama, którą wczytaliśmy na początku). Wartością może być obiekt `pd.Series`, np. wynik operacji na innych kolumnach. "
   ]
  },
  {
   "cell_type": "code",
   "execution_count": null,
   "metadata": {},
   "outputs": [],
   "source": []
  },
  {
   "cell_type": "code",
   "execution_count": null,
   "metadata": {},
   "outputs": [],
   "source": []
  },
  {
   "cell_type": "markdown",
   "metadata": {},
   "source": [
    "**Zadanie 3.** Oblicz macierz korelacji cech dla każdego z gatunków z osobna. Wykorzystaj metody `groupby()` i `corr()`. Macierz korelacji konkretnego gatunku możesz zwizualizować za pomocą \n",
    "\n",
    "```python\n",
    "sns.heatmap(c, annot=True)\n",
    "```\n",
    "\n",
    "gdzie `c` to macierz korelacji."
   ]
  },
  {
   "cell_type": "code",
   "execution_count": null,
   "metadata": {},
   "outputs": [],
   "source": []
  },
  {
   "cell_type": "code",
   "execution_count": null,
   "metadata": {},
   "outputs": [],
   "source": []
  },
  {
   "cell_type": "markdown",
   "metadata": {},
   "source": [
    "Metoda `pd.DataFrame.transform()` pozwala na zastosowanie funkcji do każdej grupy w ramce danych i zwrócenie wyników w takiej samej formie, co oryginalna ramka danych.\n",
    "\n",
    "Przykład dla poprzedniej ramki:"
   ]
  },
  {
   "cell_type": "code",
   "execution_count": null,
   "metadata": {},
   "outputs": [],
   "source": [
    "ramka"
   ]
  },
  {
   "cell_type": "code",
   "execution_count": null,
   "metadata": {},
   "outputs": [],
   "source": [
    "ramka.groupby('Z').transform('sum')"
   ]
  },
  {
   "cell_type": "markdown",
   "metadata": {},
   "source": [
    "Przykład na danych *Iris* - ramka średnich **wewnątrzgrupowych**:"
   ]
  },
  {
   "cell_type": "code",
   "execution_count": null,
   "metadata": {},
   "outputs": [],
   "source": [
    "df.groupby('species').transform('mean')"
   ]
  },
  {
   "cell_type": "markdown",
   "metadata": {},
   "source": [
    "**Zadanie 4.** Odtwórz tabelę III z pracy Fishera. Wykorzystaj metodę `transform()` i mnożenie macierzowe."
   ]
  },
  {
   "cell_type": "code",
   "execution_count": null,
   "metadata": {},
   "outputs": [],
   "source": []
  },
  {
   "cell_type": "code",
   "execution_count": null,
   "metadata": {},
   "outputs": [],
   "source": []
  },
  {
   "cell_type": "markdown",
   "metadata": {},
   "source": [
    "### 3.1.2 Wizualizacja"
   ]
  },
  {
   "cell_type": "markdown",
   "metadata": {},
   "source": [
    "Wykres rozrzutu *petal length* vs. *petal width* z podziałem na gatunki:"
   ]
  },
  {
   "cell_type": "code",
   "execution_count": null,
   "metadata": {},
   "outputs": [],
   "source": [
    "sns.scatterplot(data=df, x='petal_length', y='petal_width', hue='species')"
   ]
  },
  {
   "cell_type": "markdown",
   "metadata": {},
   "source": [
    "**Zadanie 5.** Narysuj wykres rozrzutu *sepal length* vs. *sepal width* z podziałem na gatunki."
   ]
  },
  {
   "cell_type": "code",
   "execution_count": null,
   "metadata": {},
   "outputs": [],
   "source": []
  },
  {
   "cell_type": "markdown",
   "metadata": {},
   "source": [
    "Wizualizacja zależności między wszystkimi zmiennymi:"
   ]
  },
  {
   "cell_type": "code",
   "execution_count": null,
   "metadata": {},
   "outputs": [],
   "source": [
    "sns.pairplot(df, hue='species')"
   ]
  },
  {
   "cell_type": "markdown",
   "metadata": {},
   "source": [
    "**Zadanie 6.** Skomentuj wykres. Czy gatunki są od siebie rozróżnialne na podstawie tych zmiennych?"
   ]
  },
  {
   "cell_type": "code",
   "execution_count": null,
   "metadata": {},
   "outputs": [],
   "source": []
  },
  {
   "cell_type": "code",
   "execution_count": null,
   "metadata": {},
   "outputs": [],
   "source": []
  },
  {
   "cell_type": "markdown",
   "metadata": {},
   "source": [
    "Wizualizacja zależności *petal width* od *petal length* z prostą regresji:"
   ]
  },
  {
   "cell_type": "code",
   "execution_count": null,
   "metadata": {},
   "outputs": [],
   "source": [
    "sns.regplot(data=df, x='petal_length', y='petal_width')"
   ]
  },
  {
   "cell_type": "markdown",
   "metadata": {},
   "source": [
    "**Zadanie 7.** Na rysunku powyżej brakuje podziału na gatunki. Okazuje się, że funkcja `sns.regplot()` nie obsługuje automatycznie podziału na grupy. Problem możesz rozwiązać na kilka sposobów. Jeden z nich to użycie funkcji `sns.regplot()` z argumentem `scatter=False`, a następnie dodanie punktów za pomocą funkcji `sns.scatterplot()`. Operacje te należy wykonać w jednej komórce."
   ]
  },
  {
   "cell_type": "code",
   "execution_count": null,
   "metadata": {},
   "outputs": [],
   "source": []
  },
  {
   "cell_type": "code",
   "execution_count": null,
   "metadata": {},
   "outputs": [],
   "source": []
  },
  {
   "cell_type": "markdown",
   "metadata": {},
   "source": [
    "**Zadanie 8.** Narysuj wykresy pudełkowe dla *sepal length* z podziałem na gatunki."
   ]
  },
  {
   "cell_type": "code",
   "execution_count": null,
   "metadata": {},
   "outputs": [],
   "source": []
  },
  {
   "cell_type": "code",
   "execution_count": null,
   "metadata": {},
   "outputs": [],
   "source": []
  },
  {
   "cell_type": "markdown",
   "metadata": {},
   "source": [
    "**Zadanie 9.** Wyświetl na jednym wykresie histogramy dla *petal width* dla każdego z gatunków. Sprawdź jak zmienia się postać histogramu w zależności od wartości argumentu `bins`. Za co odpowiada parametr `kde`?"
   ]
  },
  {
   "cell_type": "code",
   "execution_count": null,
   "metadata": {},
   "outputs": [],
   "source": []
  },
  {
   "cell_type": "code",
   "execution_count": null,
   "metadata": {},
   "outputs": [],
   "source": []
  },
  {
   "cell_type": "markdown",
   "metadata": {},
   "source": [
    "**Zadanie 10.** Wykonaj podobne analizy jak wyżej dla innych ramek dostępnych w pakiecie seaborn. "
   ]
  },
  {
   "cell_type": "code",
   "execution_count": null,
   "metadata": {},
   "outputs": [],
   "source": []
  },
  {
   "cell_type": "code",
   "execution_count": null,
   "metadata": {},
   "outputs": [],
   "source": []
  }
 ],
 "metadata": {
  "kernelspec": {
   "display_name": "py312",
   "language": "python",
   "name": "python3"
  },
  "language_info": {
   "codemirror_mode": {
    "name": "ipython",
    "version": 3
   },
   "file_extension": ".py",
   "mimetype": "text/x-python",
   "name": "python",
   "nbconvert_exporter": "python",
   "pygments_lexer": "ipython3",
   "version": "3.12.4"
  }
 },
 "nbformat": 4,
 "nbformat_minor": 2
}
