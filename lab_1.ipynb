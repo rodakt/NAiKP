{
 "cells": [
  {
   "cell_type": "markdown",
   "metadata": {},
   "source": [
    "# 1. Notatnik Jupyter. Interaktywne obliczenia w Pythonie\n",
    "\n",
    "### Tomasz Rodak\n",
    "\n",
    "Laboratorium 1\n",
    "\n",
    "---\n",
    "\n",
    "## 1.1 Anaconda\n",
    "\n",
    "Anaconda jest dystrybucją języków programowania przeznaczoną do zastosowań w obliczeniach naukowych, analizie danych i uczeniu maszynowym. Języki wspierane przez dystrybucję to m. in. Python, R i Julia. Ułatwia instalację i zarządzanie wieloma pakietami oraz środowiskami programistycznymi (poprzez wykorzystanie mechanizmu `conda`). Dzięki Anacondzie łatwo zainstalujesz istotne z punktu widzenia uczenia maszynowego biblioteki, takie jak NumPy, pandas, scikit-learn, PyTorch czy BioPython."
   ]
  },
  {
   "cell_type": "markdown",
   "metadata": {},
   "source": [
    "## 1.2 Notatnik Jupyter\n",
    "\n",
    "Anaconda zawiera notatnik Jupyter, który jest środowiskiem interaktywnym, w którym możesz łączyć kod, wyniki obliczeń, wykresy oraz tekst opisowy w jednym dokumencie. Każdy notatnik skojarzony jest z konkretnym jądrem przetwarzającym kod źródłowy. Rodzaj aktywnego jądra i zakładka pozwalające na zmianę i sterowanie jądrem znajduje się w pasku Menu.\n"
   ]
  },
  {
   "cell_type": "markdown",
   "metadata": {},
   "source": [
    "## 1.3 Google Colab\n",
    "\n",
    "Google Colab to darmowe narzędzie działające w chmurze, które udostępnia interfejs podobny do Jupyter Notebook. Nie wymaga instalacji oprogramowania na Twoim komputerze – wystarczy przeglądarka internetowa. Colab oferuje również dostęp do darmowych zasobów obliczeniowych, takich jak GPU, co może znacznie przyspieszyć trenowanie modeli uczenia maszynowego, szczególnie przy bardziej złożonych analizach danych."
   ]
  },
  {
   "cell_type": "markdown",
   "metadata": {},
   "source": [
    "## 1.4 Podstawy obsługi notatnika Google Colab\n",
    "\n",
    "Podstawowe elementy obsługi notatnika w Google Colab:\n",
    "\n",
    "- **Podział na komórki:**  \n",
    "  Notatnik składa się z komórek, które mogą zawierać kod lub tekst sformatowany przy użyciu Markdown. Komórki kodu służą do wpisywania instrukcji Pythona, a komórki tekstowe – do dodawania opisów, notatek czy nagłówków.\n",
    "\n",
    "- **Dodawanie i edycja komórek:**  \n",
    "  Nowe komórki możesz dodawać, klikając przyciski „+ Code” (dla komórek z kodem) lub „+ Text” (dla komórek z tekstem). Po dodaniu możesz swobodnie edytować zawartość komórek, aby dopasować je do swoich potrzeb.\n",
    "\n",
    "- **Uruchamianie komórek:**  \n",
    "  Aby wykonać kod zapisany w danej komórce, wystarczy kliknąć ikonę play obok niej lub użyć skrótu klawiszowego (Shift+Enter). Wynik działania kodu pojawi się bezpośrednio pod komórką.\n",
    "\n",
    "- **Zmiana ustawień środowiska:**  \n",
    "  W zakładce **Runtime** możesz dostosować ustawienia notatnika, m.in. zmienić typ środowiska na GPU lub TPU, co jest przydatne przy trenowaniu modeli uczenia maszynowego, lub ponownie uruchomić środowisko.\n",
    "\n",
    "- **Zarządzanie i współdzielenie notatnika:**  \n",
    "  Colab automatycznie zapisuje Twoje notatniki w Google Drive, co ułatwia dostęp do nich z różnych urządzeń. Dodatkowo, łatwo możesz udostępnić notatnik innym, ustawiając odpowiednie uprawnienia dostępu.\n",
    "\n",
    "- **Instalacja dodatkowych bibliotek:**  \n",
    "  W każdej komórce możesz instalować nowe pakiety za pomocą komendy pip, np. `!pip install nazwa_pakietu`, co umożliwia szybkie korzystanie z różnych narzędzi analitycznych i uczenia maszynowego."
   ]
  },
  {
   "cell_type": "markdown",
   "metadata": {},
   "source": [
    "## 1.5 Przykłady\n",
    "\n",
    "### 1.5.1 Interaktywna wizualizacja danych z Plotly\n",
    "\n",
    "Google Colab pozwala na tworzenie dynamicznych wykresów przy użyciu bibliotek takich jak Plotly. W poniższym przykładzie tworzymy interaktywny wykres funkcji kwadratowej, który umożliwia eksplorację danych poprzez zoomowanie i przesuwanie widoku:"
   ]
  },
  {
   "cell_type": "code",
   "execution_count": null,
   "metadata": {},
   "outputs": [],
   "source": [
    "import plotly.express as px\n",
    "import pandas as pd\n",
    "import numpy as np\n",
    "\n",
    "# Przygotowanie przykładowych danych\n",
    "x = np.linspace(0, 10, 100)\n",
    "df = pd.DataFrame({\"x\": x, \"y\": x**2})\n",
    "\n",
    "# Tworzenie interaktywnego wykresu\n",
    "fig = px.line(df, x=\"x\", y=\"y\", title=\"Wykres funkcji y = x²\")\n",
    "fig.show()"
   ]
  },
  {
   "cell_type": "markdown",
   "metadata": {},
   "source": [
    "**Ćwiczenie 1.** Zmodyfikuj podany kod tak, aby wygenerować wykresy innych funkcji w innych przedziałach."
   ]
  },
  {
   "cell_type": "markdown",
   "metadata": {},
   "source": [
    "### 1.5.2 Interaktywne widżety z ipywidgets\n",
    "\n",
    "Dzięki bibliotece `ipywidgets` możesz wprowadzać elementy interaktywne, np. suwaki, które dynamicznie modyfikują wykresy. Poniższy przykład ilustruje, jak przy użyciu suwaka można zmieniać parametr funkcji sinus:"
   ]
  },
  {
   "cell_type": "code",
   "execution_count": null,
   "metadata": {},
   "outputs": [],
   "source": [
    "import matplotlib.pyplot as plt\n",
    "from ipywidgets import interact\n",
    "\n",
    "def rysuj_wykres(k):\n",
    "    x = np.linspace(0, 10, 1000)\n",
    "    y = np.sin(x * k)\n",
    "    plt.figure(figsize=(8, 4))\n",
    "    plt.plot(x, y)\n",
    "    plt.title(f\"Wykres funkcji: $y = sin({k}x)$\")\n",
    "    plt.xlabel(\"x\")\n",
    "    plt.ylabel(\"y\")\n",
    "    plt.show()\n",
    "\n",
    "# Tworzenie suwaka do interaktywnej zmiany wartości 'k'\n",
    "interact(rysuj_wykres, k=(1, 10, 1));"
   ]
  },
  {
   "cell_type": "markdown",
   "metadata": {},
   "source": [
    "**Ćwiczenie 2.** Wykonaj interaktywny wykres funkcji\n",
    "\n",
    "\\begin{equation*}\n",
    "y=\\sin(kx) + \\cos(mx),\n",
    "\\end{equation*}\n",
    "\n",
    "<!-- gdzie $k$ i $m$ są parametrami, a $x$ jest zmienną niezależną. -->\n",
    "gdzie \n",
    "* $k=1, 2, \\ldots, 10$,\n",
    "* $m=1, 2, \\ldots, 10$,\n",
    "* $x$ jest zmienną niezależną z przedziału $[0, 10]$."
   ]
  },
  {
   "cell_type": "markdown",
   "metadata": {},
   "source": [
    "### 1.5.3 Trenowanie modelu uczenia maszynowego i wizualizacja wyników\n",
    "\n",
    "Przykład implementacji sieci neuronowej w PyTorch, która uczy się przybliżać funkcję kwadratową z szumem.\n",
    "\n",
    "Zaczynamy od zaimportowania potrzebnych bibliotek i wygenerowania syntetycznych danych:"
   ]
  },
  {
   "cell_type": "code",
   "execution_count": null,
   "metadata": {},
   "outputs": [],
   "source": [
    "import torch\n",
    "import torch.nn as nn\n",
    "import torch.optim as optim\n",
    "import numpy as np\n",
    "import matplotlib.pyplot as plt\n",
    "\n",
    "# Przygotowanie danych: funkcja kwadratowa z szumem\n",
    "N = 200 # liczba punktów\n",
    "x = np.linspace(-1, 1, N).reshape(-1, 1)  # dane wejściowe o wymiarze (N, 1)\n",
    "y = x**2 + np.random.randn(N, 1) * 0.1    # dane wyjściowe z dodanym szumem\n",
    "plt.scatter(x, y, s=5)\n",
    "plt.xlabel(\"x\")\n",
    "plt.ylabel(\"y\")\n",
    "plt.title(\"Dane treningowe\")\n",
    "plt.show()"
   ]
  },
  {
   "cell_type": "markdown",
   "metadata": {},
   "source": [
    "Budowa modelu sieci neuronowej:"
   ]
  },
  {
   "cell_type": "code",
   "execution_count": null,
   "metadata": {},
   "outputs": [],
   "source": [
    "# Konwersja danych na tensory PyTorch\n",
    "x_tensor = torch.tensor(x, dtype=torch.float32)\n",
    "y_tensor = torch.tensor(y, dtype=torch.float32)\n",
    "\n",
    "# Definicja modelu - sieć neuronowa z jedną warstwą ukrytą (10 neuronów) i funkcją ReLU\n",
    "model = nn.Sequential(\n",
    "    nn.Linear(1, 10),\n",
    "    nn.ReLU(),\n",
    "    nn.Linear(10, 1)\n",
    ")\n"
   ]
  },
  {
   "cell_type": "markdown",
   "metadata": {},
   "source": [
    "Definicja funkcji straty i optymalizatora:"
   ]
  },
  {
   "cell_type": "code",
   "execution_count": null,
   "metadata": {},
   "outputs": [],
   "source": [
    "criterion = nn.MSELoss()\n",
    "optimizer = optim.Adam(model.parameters(), lr=0.01)"
   ]
  },
  {
   "cell_type": "markdown",
   "metadata": {},
   "source": [
    "Trening modelu:"
   ]
  },
  {
   "cell_type": "code",
   "execution_count": null,
   "metadata": {},
   "outputs": [],
   "source": [
    "loss_history = []\n",
    "num_epochs = 100\n",
    "for epoch in range(num_epochs):\n",
    "    optimizer.zero_grad()            # zerowanie gradientów\n",
    "    outputs = model(x_tensor)          # propagacja w przód\n",
    "    loss = criterion(outputs, y_tensor)  # obliczanie straty\n",
    "    loss.backward()                    # propagacja wsteczna\n",
    "    optimizer.step()                   # aktualizacja wag\n",
    "    loss_history.append(loss.item())   # zapisywanie wartości straty\n",
    "\n",
    "# Wizualizacja spadku wartości funkcji straty podczas treningu\n",
    "plt.figure(figsize=(8, 4))\n",
    "plt.plot(loss_history)\n",
    "plt.title(\"Spadek wartości funkcji straty podczas treningu\")\n",
    "plt.xlabel(\"Epoka\")\n",
    "plt.ylabel(\"Strata\")\n",
    "plt.show()"
   ]
  },
  {
   "cell_type": "markdown",
   "metadata": {},
   "source": [
    "Wizualizacja dopasowania modelu do danych:"
   ]
  },
  {
   "cell_type": "code",
   "execution_count": null,
   "metadata": {},
   "outputs": [],
   "source": [
    "xx = np.linspace(-1, 1, 100).reshape(-1, 1)\n",
    "xx_tensor = torch.tensor(xx, dtype=torch.float32)\n",
    "yy_tensor = model(xx_tensor).detach().numpy()\n",
    "plt.scatter(x, y, s=5)\n",
    "plt.plot(xx, yy_tensor, color='red')\n",
    "plt.xlabel(\"x\")\n",
    "plt.ylabel(\"y\")\n",
    "plt.title(\"Dopasowanie modelu do danych treningowych\")\n",
    "plt.show()"
   ]
  },
  {
   "cell_type": "markdown",
   "metadata": {},
   "source": [
    "**Ćwiczenie 3.** Model sieci neuronowej w przykładzie ma postać:\n",
    "\n",
    "```python\n",
    "model = nn.Sequential(\n",
    "    nn.Linear(1, 10),\n",
    "    nn.ReLU(),\n",
    "    nn.Linear(10, 1)\n",
    ")\n",
    "```\n",
    "\n",
    "Poniżej krótkie wyjaśnienie poszczególnych elementów sieci:\n",
    "\n",
    "- **nn.Sequential:**  \n",
    "  Funkcja umożliwiająca łączenie kolejnych warstw i operacji w jeden przepływ obliczeniowy - wynik jednej warstwy automatycznie trafia jako wejście do następnej.\n",
    "\n",
    "- **nn.Linear(1, 10):**  \n",
    "  Pierwsza warstwa liniowa (w pełni połączona), która przekształca wejściowy wektor o wymiarze 1 na wyjście o wymiarze 10. W praktyce oznacza to, że pojedyncza wartość wejściowa zostaje przekształcona w 10 cech, co pozwala modelowi na bardziej złożone reprezentacje.\n",
    "\n",
    "- **nn.ReLU():**  \n",
    "  Funkcja aktywacji ReLU (Rectified Linear Unit) wprowadza nieliniowość do modelu. Działa tak, że wszystkie ujemne wartości ustawiane są na 0, a dodatnie pozostają bez zmian.\n",
    "\n",
    "- **nn.Linear(10, 1):**  \n",
    "  Druga warstwa liniowa, która redukuje 10-wymiarową reprezentację do pojedynczej wartości wyjściowej. To ostatnia warstwa modelu, odpowiadająca za generowanie prognozy lub wyniku.\n",
    "\n",
    "Cała sieć stanowi prostą architekturę z jedną warstwą ukrytą, gdzie nieliniowość wprowadzona przez ReLU umożliwia modelowi naukę nieliniowych zależności w danych.\n",
    "\n",
    "Przeprowadź eksperymenty z modelem, modyfikując:\n",
    "* liczbę neuronów w warstwie ukrytej,\n",
    "* funkcję aktywacji,\n",
    "* liczbę warstw ukrytych.\n"
   ]
  },
  {
   "cell_type": "markdown",
   "metadata": {},
   "source": [
    "### 1.5.4 Symulacja dryfu genetycznego\n",
    "\n",
    "Dryf genetyczny to zjawisko polegające na losowej zmianie częstości allelu w populacji. Jest to ważny przykład procesu prowadzącego do ewolucji nieadaptatywnej.\n",
    "\n",
    "Podany niżej program jest symulacją ilustrującą działanie dryfu genetycznego.\n",
    "\n",
    "Niech A, a będą dwoma allelami (wariantami) jednego genu. Zakładamy, że:\n",
    " * Dana jest populacja osobników, w której każdy osobnik ma dwie kopie genu\n",
    "   w dowolnych wariantach (czyli są to osobniki diploidalne).\n",
    " * Zmiana jednego allelu na drugi nie ma żadnego znaczenia adaptacyjnego.\n",
    " * W populacji pokolenia nie zachodzą na siebie, \n",
    " kojarzenie jest płciowe i całkowicie losowe a każda para organizmów\n",
    " rodzicielskich ma dwa organizmy potomne.\n",
    " * W organizmie potomnym warianty genu dobierane są losowo,\n",
    " z równym prawdopodobieństwem, po jednym od każdego z organizmów rodzicielskich. Przykład: dla organizmów rodzicielskich o genotypach aA, AA,\n",
    " mamy cztery możliwe genotypy potomne aA, aA, AA, AA\n",
    " odpowiadające wylosowaniu pozycji (1, 1), (1, 2), (2, 1), (2, 2).\n",
    "\n",
    "Program tworzy losową populację o ustalonej z góry liczbie osobników. Warianty genów przechowywane są w zmiennej globalnej `GENY`. Symulacja polega na przeprowadzeniu pewnej liczby cykli życiowych.\n",
    "\n",
    "Program napisany jest w czystym Pythonie, jedynie z użyciem biblioteki standardowej. Wyniki symulacji\n",
    "zapisuje w pliku CSV `wyniki.csv`."
   ]
  },
  {
   "cell_type": "code",
   "execution_count": null,
   "metadata": {},
   "outputs": [],
   "source": [
    "import random\n",
    "import math\n",
    "import csv\n",
    "\n",
    "GENY = [[\"A\", \"a\"], [\"B\", \"b\"], [\"C\", \"c\"], [\"D\", \"d\"]]\n",
    "\n",
    "def time_fixation_or_loss(N, p=1/2):\n",
    "    \"\"\"\n",
    "    Calculates the expected time for a fixation or loss of an allel.\n",
    "    Source: https://en.wikipedia.org/wiki/Genetic_drift#Time_to_fixation_or_loss\n",
    "\n",
    "    :param N: an integer representing the size of the population\n",
    "    :param p: a float representing the probability of fixation or loss (default: 1/2)\n",
    "    :return: a float representing the expected time for a fixation or loss of an allel.\n",
    "    \"\"\"\n",
    "    return -4 * N * (1 - p) * math.log(1 - p) / p\n",
    "\n",
    "def losuj_bez_zwracania(lista, n):\n",
    "    \"\"\"Losuje n elementów z listy bez zwracania.\"\"\"\n",
    "    assert len(lista) >= n\n",
    "    indeksy = random.sample(range(len(lista)), n)\n",
    "    losy = [lista[i] for i in indeksy]\n",
    "    for i in sorted(indeksy, reverse=True):\n",
    "        del lista[i]\n",
    "    return losy\n",
    "\n",
    "\n",
    "def realizacje_genów(geny):\n",
    "    \"\"\"Lista możliwych wersji genów.\"\"\"\n",
    "    wersje_genów = []\n",
    "    for A, a in geny:\n",
    "        g = [A + A, A + a, a + A, a + a]\n",
    "        wersje_genów.append(g)\n",
    "    return wersje_genów\n",
    "\n",
    "\n",
    "def nowa_populacja(N, geny):\n",
    "    \"\"\"Losowa populacja osobników.\"\"\"\n",
    "    wersje_genów = realizacje_genów(geny)\n",
    "    populacja = []\n",
    "    for i in range(N):\n",
    "        osobnik = []\n",
    "        for g in wersje_genów:\n",
    "            osobnik.append(random.choice(g))\n",
    "        populacja.append(osobnik)\n",
    "    return populacja\n",
    "\n",
    "\n",
    "def losuj_parę(populacja):\n",
    "    assert len(populacja) >= 2\n",
    "    return losuj_bez_zwracania(populacja, 2)\n",
    "\n",
    "\n",
    "def rozmnóż_parę(para):\n",
    "    r1, r2 = para\n",
    "    assert len(r1) == len(r2)\n",
    "    potomek = []\n",
    "    for i in range(len(r1)):\n",
    "        potomek.append(random.choice(r1[i]) + random.choice(r2[i]))\n",
    "    return potomek\n",
    "\n",
    "\n",
    "def populacja_potomna(populacja, rozrodczość=2):\n",
    "    \"\"\"Populacja potomna powstała z populacji rodzicielskiej.\"\"\"\n",
    "    populacja = populacja.copy()\n",
    "    potomna = []\n",
    "    while len(populacja) >= 2:\n",
    "        para = losuj_parę(populacja)\n",
    "        for _ in range(rozrodczość):\n",
    "            potomek = rozmnóż_parę(para)\n",
    "            potomna.append(potomek)\n",
    "    return potomna\n",
    "\n",
    "\n",
    "def statystyka(populacja, geny=GENY):\n",
    "    \"\"\"Zwraca częstość występowania genów w populacji.\"\"\"\n",
    "    stat = {}\n",
    "    dwaN = 2 * len(populacja)\n",
    "    allele = \"\".join(\"\".join(g) for g in geny)\n",
    "    allele_w_populacji = \"\".join(\"\".join(g) for g in populacja)\n",
    "    return dict(zip(allele, [allele_w_populacji.count(a) / dwaN for a in allele]))\n",
    "\n",
    "\n",
    "def dryf_genetyczny(n=100, t=1000):\n",
    "    \"\"\"Symulacja dryfu genetycznego.\"\"\"\n",
    "    populacja = nowa_populacja(n, GENY)\n",
    "    wyniki = [statystyka(populacja)]\n",
    "    for _ in range(t):\n",
    "        populacja = populacja_potomna(populacja)\n",
    "        wyniki.append(statystyka(populacja))\n",
    "    return wyniki\n",
    "\n",
    "def zapisz_do_csv(wyniki, fname):\n",
    "    with open(fname, \"wt\", encoding=\"utf8\", newline=\"\") as f:\n",
    "        writer = csv.DictWriter(f, fieldnames=wyniki[0].keys())\n",
    "        writer.writeheader()\n",
    "        writer.writerows(wyniki)\n",
    "\n",
    "if __name__ == \"__main__\":\n",
    "    # liczba osobników\n",
    "    N = 500\n",
    "    # liczba pokoleń\n",
    "    T = 1400\n",
    "    wyniki = dryf_genetyczny(n=N, t=T)\n",
    "    print(f\"Przewidywany czas do utrwalenia: {time_fixation_or_loss(N, 1/2)}\")\n",
    "    zapisz_do_csv(wyniki, \"wyniki.csv\")"
   ]
  },
  {
   "cell_type": "code",
   "execution_count": null,
   "metadata": {},
   "outputs": [],
   "source": [
    "import pandas as pd\n",
    "\n",
    "df = pd.read_csv(\"wyniki.csv\")\n",
    "df.head()"
   ]
  },
  {
   "cell_type": "code",
   "execution_count": null,
   "metadata": {},
   "outputs": [],
   "source": [
    "df[\"A B C D\".split()].plot(title=\"Częstość występowania genów w populacji\");\n",
    "plt.gcf().set_size_inches(12, 6)"
   ]
  },
  {
   "cell_type": "markdown",
   "metadata": {},
   "source": [
    "**Ćwiczenie 4.** Uruchom symulację dla różnych wartości początkowej liczby osobników i liczby pokoleń.\n",
    "\n",
    "Zaobserwuj:\n",
    "\n",
    " * Jak zmienia się częstość alleli w populacji?\n",
    " * Jak zmiana ta zależy od początkowej liczby osobników? Jak od liczby pokoleń?\n",
    "\n",
    "Zobacz link [Time to fixation or loss](https://en.wikipedia.org/wiki/Genetic_drift#Time_to_fixation_or_loss\n",
    ").\n",
    "Sprawdź jak zawarte tam przewidywania mają się do rezultatów Twojej symulacji."
   ]
  }
 ],
 "metadata": {
  "anaconda-cloud": {},
  "kernelspec": {
   "display_name": "py312",
   "language": "python",
   "name": "python3"
  },
  "language_info": {
   "codemirror_mode": {
    "name": "ipython",
    "version": 3
   },
   "file_extension": ".py",
   "mimetype": "text/x-python",
   "name": "python",
   "nbconvert_exporter": "python",
   "pygments_lexer": "ipython3",
   "version": "3.12.4"
  }
 },
 "nbformat": 4,
 "nbformat_minor": 1
}
